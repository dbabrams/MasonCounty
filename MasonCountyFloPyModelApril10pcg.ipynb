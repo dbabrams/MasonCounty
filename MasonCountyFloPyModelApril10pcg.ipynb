{
  "nbformat": 4,
  "nbformat_minor": 0,
  "metadata": {
    "colab": {
      "name": "MasonCountyTest (1).ipynb",
      "provenance": [],
      "collapsed_sections": [],
      "toc_visible": true
    },
    "kernelspec": {
      "name": "python3",
      "display_name": "Python 3"
    },
    "language_info": {
      "codemirror_mode": {
        "name": "ipython",
        "version": 3
      },
      "file_extension": ".py",
      "mimetype": "text/x-python",
      "name": "python",
      "nbconvert_exporter": "python",
      "pygments_lexer": "ipython3",
      "version": "3.7.6"
    }
  },
  "cells": [
    {
      "cell_type": "markdown",
      "metadata": {
        "id": "G4KWGGv5A7F2",
        "colab_type": "text"
      },
      "source": [
        "# <center>FloPy Regional Model Development</center>\n",
        "The following script develops a regional MODFLOW model using FloPy and associated packages. The study domain is the Mahomet Aquifer in Illinois, particulary in the heavily irrigated region of Mason County. \n",
        "\n",
        "Note that you may not always have to compile MODFLOW, and you only have initialize code (#1) and import large files (#2) the first time you run the code in a session. Most of the time, you will only have to run #3 onward. "
      ]
    },
    {
      "cell_type": "markdown",
      "metadata": {
        "id": "MZeCuFvptP_f",
        "colab_type": "text"
      },
      "source": [
        "# 0. Compile MODFLOW (DO NOT RUN UNLESS NECESSARY)\n"
      ]
    },
    {
      "cell_type": "markdown",
      "metadata": {
        "id": "I0WdSEtOElwW",
        "colab_type": "text"
      },
      "source": [
        "When using Google CoLab, you cannot simply use an existing MODFLOW executable, but have to compile a a new one for use in this environment. I have already compiled MODFLOW, but am currently unsure if it will work for everybody. Please do not run the following code unless you get an error that the MODFLOW file was not found (will occur when running the model). "
      ]
    },
    {
      "cell_type": "code",
      "metadata": {
        "id": "Imxy2VTEuFWa",
        "colab_type": "code",
        "colab": {}
      },
      "source": [
        "#!pip install https://github.com/modflowpy/pymake/zipball/master # install of the pymake package to compile MODFLOW"
      ],
      "execution_count": 0,
      "outputs": []
    },
    {
      "cell_type": "code",
      "metadata": {
        "colab_type": "code",
        "id": "GRcmZ0Oudvp1",
        "colab": {}
      },
      "source": [
        "# Code to complile the MODFLOW executable\n",
        "\n",
        "#import pymake\n",
        "\n",
        "#def make_mf2005():\n",
        "#    pymake.build_apps('mf2005')\n",
        "\n",
        "\n",
        "#if __name__ == \"__main__\":\n",
        "#    make_mf2005()\n",
        "\n",
        "\n",
        "\n",
        "\n",
        "\n",
        "#import pymake\n",
        "\n",
        "#def make_mfnwt():\n",
        "#    pymake.build_apps('mfnwt')\n",
        "\n",
        "#if __name__ == \"__main__\":\n",
        "#    make_mfnwt()\n"
      ],
      "execution_count": 0,
      "outputs": []
    },
    {
      "cell_type": "markdown",
      "metadata": {
        "id": "8Wf-e4N6BUJo",
        "colab_type": "text"
      },
      "source": [
        "# 1 Initializing the code\n"
      ]
    },
    {
      "cell_type": "markdown",
      "metadata": {
        "id": "N3dybMuFEr1q",
        "colab_type": "text"
      },
      "source": [
        "These few code blocks only have to be run at the beginning of the script or if a runtime connection is lost. See details for each below. "
      ]
    },
    {
      "cell_type": "markdown",
      "metadata": {
        "id": "AiQlOJosBqXy",
        "colab_type": "text"
      },
      "source": [
        "## 1A. Install needed packages\n",
        "There are three packages that must be installed in the CoLab environment to run this script. These include \n",
        "\n",
        "\"pyproj\", which allows for the conversion from WGS84 coordinates (as obtained from Google Earth), which are in lat/long decimal degrees, to Illimap coordinates, a specialized projection using Lambert Conformal Conic that is optimized for developing a model grid in the state of Illinois. \n",
        "\n",
        "\"flopy\" creates modflow executables, runs the model, and allows for manipulation of results.\n",
        "\n",
        "\"rasterio\" allows for the reading of raster files, and is closely tied to the development of \"flopy\" input files\n"
      ]
    },
    {
      "cell_type": "code",
      "metadata": {
        "colab_type": "code",
        "id": "z0rwRhzkGuf3",
        "outputId": "cc9d2a44-cf44-4d99-e3e8-64c3602d1539",
        "colab": {
          "base_uri": "https://localhost:8080/",
          "height": 578
        }
      },
      "source": [
        "!pip install pyproj\n",
        "!pip install flopy\n",
        "!pip install rasterio"
      ],
      "execution_count": 2,
      "outputs": [
        {
          "output_type": "stream",
          "text": [
            "Collecting pyproj\n",
            "\u001b[?25l  Downloading https://files.pythonhosted.org/packages/ce/37/705ee471f71130d4ceee41bbcb06f3b52175cb89273cbb5755ed5e6374e0/pyproj-2.6.0-cp36-cp36m-manylinux2010_x86_64.whl (10.4MB)\n",
            "\u001b[K     |████████████████████████████████| 10.4MB 2.7MB/s \n",
            "\u001b[?25hInstalling collected packages: pyproj\n",
            "Successfully installed pyproj-2.6.0\n",
            "Collecting flopy\n",
            "\u001b[?25l  Downloading https://files.pythonhosted.org/packages/b7/6a/44206d49f3fa6edbb83e01ff4c58aa8dc188e0071de88cf14b36e19b3f2a/flopy-3.3.0.zip (1.0MB)\n",
            "\u001b[K     |████████████████████████████████| 1.1MB 2.8MB/s \n",
            "\u001b[?25hRequirement already satisfied: numpy>=1.9 in /usr/local/lib/python3.6/dist-packages (from flopy) (1.18.2)\n",
            "Building wheels for collected packages: flopy\n",
            "  Building wheel for flopy (setup.py) ... \u001b[?25l\u001b[?25hdone\n",
            "  Created wheel for flopy: filename=flopy-3.3.0-cp36-none-any.whl size=1038572 sha256=154e4359f72f45456872acb9cfc70c8403d58474c1e0bd8c33ec63dc774938e5\n",
            "  Stored in directory: /root/.cache/pip/wheels/d6/af/5a/6d32a03da175b47d8f8cca93b4d363a864cf604164b85af785\n",
            "Successfully built flopy\n",
            "Installing collected packages: flopy\n",
            "Successfully installed flopy-3.3.0\n",
            "Collecting rasterio\n",
            "\u001b[?25l  Downloading https://files.pythonhosted.org/packages/c7/81/13321f88f582a00705c5f348724728e8999136e19d6e7c56f7e6ac9bb7f9/rasterio-1.1.3-cp36-cp36m-manylinux1_x86_64.whl (18.1MB)\n",
            "\u001b[K     |████████████████████████████████| 18.1MB 52.9MB/s \n",
            "\u001b[?25hCollecting snuggs>=1.4.1\n",
            "  Downloading https://files.pythonhosted.org/packages/cc/0e/d27d6e806d6c0d1a2cfdc5d1f088e42339a0a54a09c3343f7f81ec8947ea/snuggs-1.4.7-py3-none-any.whl\n",
            "Requirement already satisfied: click<8,>=4.0 in /usr/local/lib/python3.6/dist-packages (from rasterio) (7.1.1)\n",
            "Collecting click-plugins\n",
            "  Downloading https://files.pythonhosted.org/packages/e9/da/824b92d9942f4e472702488857914bdd50f73021efea15b4cad9aca8ecef/click_plugins-1.1.1-py2.py3-none-any.whl\n",
            "Collecting affine\n",
            "  Downloading https://files.pythonhosted.org/packages/ac/a6/1a39a1ede71210e3ddaf623982b06ecfc5c5c03741ae659073159184cd3e/affine-2.3.0-py2.py3-none-any.whl\n",
            "Requirement already satisfied: attrs in /usr/local/lib/python3.6/dist-packages (from rasterio) (19.3.0)\n",
            "Collecting cligj>=0.5\n",
            "  Downloading https://files.pythonhosted.org/packages/e4/be/30a58b4b0733850280d01f8bd132591b4668ed5c7046761098d665ac2174/cligj-0.5.0-py3-none-any.whl\n",
            "Requirement already satisfied: numpy in /usr/local/lib/python3.6/dist-packages (from rasterio) (1.18.2)\n",
            "Requirement already satisfied: pyparsing>=2.1.6 in /usr/local/lib/python3.6/dist-packages (from snuggs>=1.4.1->rasterio) (2.4.7)\n",
            "Installing collected packages: snuggs, click-plugins, affine, cligj, rasterio\n",
            "Successfully installed affine-2.3.0 click-plugins-1.1.1 cligj-0.5.0 rasterio-1.1.3 snuggs-1.4.7\n"
          ],
          "name": "stdout"
        }
      ]
    },
    {
      "cell_type": "markdown",
      "metadata": {
        "id": "g6tMviUVufyx",
        "colab_type": "text"
      },
      "source": [
        "## 1B. Import packages"
      ]
    },
    {
      "cell_type": "code",
      "metadata": {
        "colab_type": "code",
        "id": "It0QTEJCQCuV",
        "colab": {
          "base_uri": "https://localhost:8080/",
          "height": 34
        },
        "outputId": "3d3e5894-4efd-4768-afae-e55a083b5ad3"
      },
      "source": [
        "import flopy # import flopy to develop, run, and analyze the model\n",
        "from flopy.utils import Raster # plot rasters from flopy\n",
        "import matplotlib as mp\n",
        "import pandas as pd\n",
        "import pyproj # change between WGS84 and Illimap coordinates\n",
        "import rasterio  # import rasters\n",
        "import matplotlib.pyplot as plt\n",
        "import numpy as np \n",
        "\n",
        "# the following code authorizes you to access files on Google Drive\n",
        "from google.colab import drive\n",
        "from pydrive.auth import GoogleAuth\n",
        "from pydrive.drive import GoogleDrive\n",
        "from google.colab import auth\n",
        "from oauth2client.client import GoogleCredentials\n"
      ],
      "execution_count": 3,
      "outputs": [
        {
          "output_type": "stream",
          "text": [
            "flopy is installed in /usr/local/lib/python3.6/dist-packages/flopy\n"
          ],
          "name": "stdout"
        }
      ]
    },
    {
      "cell_type": "markdown",
      "metadata": {
        "id": "MRFZ3O-TurE2",
        "colab_type": "text"
      },
      "source": [
        "## 1C. Authenticate with Google\n",
        "This will allow you to access shared files on my Google Drive or your own. "
      ]
    },
    {
      "cell_type": "code",
      "metadata": {
        "colab_type": "code",
        "id": "hstJX5XhPT9r",
        "colab": {}
      },
      "source": [
        "auth.authenticate_user()\n",
        "gauth = GoogleAuth()\n",
        "gauth.credentials = GoogleCredentials.get_application_default()\n",
        "drive = GoogleDrive(gauth)"
      ],
      "execution_count": 0,
      "outputs": []
    },
    {
      "cell_type": "markdown",
      "metadata": {
        "id": "WoUf-0HKvAUm",
        "colab_type": "text"
      },
      "source": [
        "## 1D. Read the MODFLOW executable from Google Drive\n",
        "\n",
        "Here you are going to download the MODFLOW executable from Daniel's Google Drive. This will show up in your temporary working directory for use later in the code. <b>We need to confirm whether this will work in CoLab, or if you need to compile a new version of MODFLOW each time.</b>\n",
        "\n",
        "Note that this makes use of a key on your Google Drive sharable link for the file. This generally takes the form of: https://drive.google.com/file/d/**key**/view?usp=sharing, in this case, key = 1SwqsSCvyrnrCiopeEp52LBcZYNcgBT9V"
      ]
    },
    {
      "cell_type": "code",
      "metadata": {
        "colab_type": "code",
        "id": "NITzYdM_PgFM",
        "colab": {}
      },
      "source": [
        "downloaded = drive.CreateFile({'id':\"1SwqsSCvyrnrCiopeEp52LBcZYNcgBT9V\"}) # This is the key that is defined in the sharable link of a file on Google Drive\n",
        "downloaded.GetContentFile('mf2005') # get the content from Google Drive and name it (let's stick with mf2005 here)\n",
        "\n",
        "#downloaded = drive.CreateFile({'id':\"1iThxRoGVhofLPd8HOF7Vn0awRVrXZcVb\"}) # This is the key that is defined in the sharable link of a file on Google Drive\n",
        "#downloaded.GetContentFile('mfnwt') # get the content from Google Drive and name it (let's stick with mf2005 here)"
      ],
      "execution_count": 0,
      "outputs": []
    },
    {
      "cell_type": "markdown",
      "metadata": {
        "id": "r-owARmIvCoH",
        "colab_type": "text"
      },
      "source": [
        "Now we need to copy the executable into a location where we can later run it. Note that the \"!\" nomenclature is a shell command, beyond the scope of this course to learn that!"
      ]
    },
    {
      "cell_type": "code",
      "metadata": {
        "colab_type": "code",
        "id": "9WK5wZAzjdna",
        "colab": {}
      },
      "source": [
        "!cp mf2005 /usr/local/bin\n",
        "!chmod 755 /usr/local/bin/mf2005\n",
        "\n",
        "#!cp mfnwt /usr/local/bin\n",
        "#!chmod 755 /usr/local/bin/mfnwt"
      ],
      "execution_count": 0,
      "outputs": []
    },
    {
      "cell_type": "markdown",
      "metadata": {
        "id": "oywHJyvfxXAq",
        "colab_type": "text"
      },
      "source": [
        "# 2 Import the big stuff\n"
      ]
    },
    {
      "cell_type": "markdown",
      "metadata": {
        "id": "bd7Rk7IlD3Ra",
        "colab_type": "text"
      },
      "source": [
        "We don't want to repeatedly import large files for fear of Google revoking our CoLab priveleges for a few hours. Once or twice isn't a big deal, but repeatedly might be an issue. Let Daniel know if this happens- there are ways to reduce our file sizes. \n",
        "\n",
        "For now, the \"big stuff\" includes a DEM of Illinois and the river excel file we worked with last time. "
      ]
    },
    {
      "cell_type": "markdown",
      "metadata": {
        "id": "7W_2AeFMx4Ai",
        "colab_type": "text"
      },
      "source": [
        "## 2A. Import the DEM"
      ]
    },
    {
      "cell_type": "code",
      "metadata": {
        "colab_type": "code",
        "id": "3ygMVkWFAcWv",
        "colab": {}
      },
      "source": [
        "# first import the land surface .tif from Google Drive\n",
        "downloaded = drive.CreateFile({'id':\"1389l8sgQ8-tsmIZuZosaqvbqpHY40n6l\"})   \n",
        "downloaded.GetContentFile('landsurface_el.tif')\n",
        "\n",
        "# first import the bedrock elevation .tif from Google Drive\n",
        "downloaded = drive.CreateFile({'id':\"1EZgZDjjILzvRzvY9nf0Qp0NHmspRq4kP\"})   \n",
        "downloaded.GetContentFile('bedrock_el.tif')\n",
        "\n",
        "# read in percent thickness of coarse grain for each model layer\n",
        "downloaded = drive.CreateFile({'id':\"18Kw3O6qCzIJ2L6KrVnRPIhea_F8VwyWn\"})   \n",
        "downloaded.GetContentFile('percentl1.tif')\n",
        "\n",
        "downloaded = drive.CreateFile({'id':\"1oZinFPKrGY-FXoE7Zu0okFpAAOe_bwau\"})   \n",
        "downloaded.GetContentFile('percentl2.tif')\n",
        "\n",
        "downloaded = drive.CreateFile({'id':\"1FqVEr4m_ElUyEZeyfnCMwVGDfUqavJZH\"})   \n",
        "downloaded.GetContentFile('percentl3.tif')\n",
        "\n",
        "downloaded = drive.CreateFile({'id':\"1KiHS9TLSP1GAVTjaaJZS4BAwF6gnUeDu\"})   \n",
        "downloaded.GetContentFile('percentl4.tif')\n",
        "\n",
        "downloaded = drive.CreateFile({'id':\"1Z-9EyaAK1NKnRHAlnyGYkI3suvBFC2I6\"})   \n",
        "downloaded.GetContentFile('percentl5.tif')\n",
        "\n",
        "downloaded = drive.CreateFile({'id':\"1pcB9aJpJGfkXOKz10rhs6MpWkQL1_dqr\"})   \n",
        "downloaded.GetContentFile('percentl6.tif')\n",
        "\n",
        "downloaded = drive.CreateFile({'id':\"1Fnh0HIKbUj7pEtlsUKR_Sr7WwfYzWul5\"})   \n",
        "downloaded.GetContentFile('percentl7.tif')\n",
        "\n",
        "downloaded = drive.CreateFile({'id':\"106JacgpwSA3wVAGcBIzGdc8rDVUB6dh7\"})   \n",
        "downloaded.GetContentFile('percentl8.tif')\n",
        "\n",
        "downloaded = drive.CreateFile({'id':\"1WJjhVJ_KSBhZDrgzY3YteNjxaz5nxBid\"})   \n",
        "downloaded.GetContentFile('percentl9.tif')"
      ],
      "execution_count": 0,
      "outputs": []
    },
    {
      "cell_type": "markdown",
      "metadata": {
        "id": "oqxp3yqCydpY",
        "colab_type": "text"
      },
      "source": [
        "## 2B. Import the river file"
      ]
    },
    {
      "cell_type": "code",
      "metadata": {
        "id": "3VqaFoQiu7tP",
        "colab_type": "code",
        "colab": {}
      },
      "source": [
        "# first import the Excel file from Google Drive\n",
        "downloaded = drive.CreateFile({'id':\"1JsAiGG4RvcfYrQtfgXRW9ZVfAkQ1yRVu\"})\n",
        "downloaded.GetContentFile('rivers_625.csv')"
      ],
      "execution_count": 0,
      "outputs": []
    },
    {
      "cell_type": "markdown",
      "metadata": {
        "id": "OROiooZxzUuH",
        "colab_type": "text"
      },
      "source": [
        "# 3 Create MODFLOW  packages"
      ]
    },
    {
      "cell_type": "markdown",
      "metadata": {
        "id": "F-uLI2Rf0PIw",
        "colab_type": "text"
      },
      "source": [
        "## 3A. Model Set-up"
      ]
    },
    {
      "cell_type": "markdown",
      "metadata": {
        "id": "FnPkGXMG0qdv",
        "colab_type": "text"
      },
      "source": [
        "### 3Ai. Define the Model Domain"
      ]
    },
    {
      "cell_type": "code",
      "metadata": {
        "colab_type": "code",
        "id": "xKgi6FiwSwY0",
        "colab": {}
      },
      "source": [
        "#----------------------------------------------------------------------------\n",
        "'''Will County\n",
        "# Define model domain in lat/long coordinates\n",
        "sw_lat =  40.045872 #southwest latitude\n",
        "sw_long = -90.397402 #southwest longitude\n",
        "ne_lat =  40.575944 #northeast latitude\n",
        "ne_long = -89.2 #northeast longitude\n",
        "'''\n",
        "\n",
        "'''ESL'''\n",
        "sw_lat =  38.4 #southwest latitude\n",
        "sw_long = -90.3 #southwest longitude\n",
        "ne_lat =  38.9 #northeast latitude\n",
        "ne_long = -90 #northeast longitude\n",
        "\n",
        "illimap = {'proj': 'lcc', # Lambert Conformal Conic\n",
        "     'ellps': 'clrk66',\n",
        "     'lon_0': -89.5,\n",
        "     'lat_0': 33,\n",
        "     'lat_1': 33,\n",
        "     'lat_2': 45,\n",
        "     'x_0': 2999994*0.3048,\n",
        "     'y_0': 0}\n",
        "\n",
        "prj = pyproj.Proj(illimap)\n",
        "\n",
        "wgs84 = pyproj.Proj(\"epsg:4326\")\n",
        "\n",
        "nex, ney = pyproj.transform(wgs84,illimap,ne_lat,ne_long)\n",
        "swx, swy = pyproj.transform(wgs84,illimap,sw_lat,sw_long)\n",
        "\n",
        "\n",
        "nex, ney = round(nex/0.3048,-4), round(ney/0.3048,-4)\n",
        "swx, swy = round(swx/0.3048,-4), round(swy/0.3048,-4)"
      ],
      "execution_count": 0,
      "outputs": []
    },
    {
      "cell_type": "markdown",
      "metadata": {
        "id": "CpselZ1G2hoC",
        "colab_type": "text"
      },
      "source": [
        "### 3Aii. Define spatial and temporal discretization"
      ]
    },
    {
      "cell_type": "code",
      "metadata": {
        "colab_type": "code",
        "id": "JZPmYy-DkqGy",
        "colab": {}
      },
      "source": [
        "# Assign Discretization variables\n",
        "Lx = nex-swx # Width of the model domain\n",
        "Ly = ney-swy # Height of the model domain\n",
        "nlay = 10 # Number of model layers\n",
        "dx = 1000\n",
        "dy = 1000\n",
        "nrow = int(Ly/dy) # Number of rows\n",
        "ncol = int(Lx/dx) # Number of columns\n",
        "\n",
        "nper = 1 #specify number of stress periods\n",
        "steady = [True] #specify if stress period is transient or steady-state\n"
      ],
      "execution_count": 0,
      "outputs": []
    },
    {
      "cell_type": "markdown",
      "metadata": {
        "id": "GoUbGJMb0e2Q",
        "colab_type": "text"
      },
      "source": [
        "### 3Aiii. Define river elevations\n",
        "\n"
      ]
    },
    {
      "cell_type": "code",
      "metadata": {
        "id": "xCZvnOQm05ww",
        "colab_type": "code",
        "colab": {}
      },
      "source": [
        "# import stage, lambert x, lambert y\n",
        "dfriv = pd.read_csv('rivers_625.csv')\n",
        "\n",
        "# trim dataframe with river information to the model domain\n",
        "dfriv = dfriv.loc[dfriv['lamx']<nex]\n",
        "dfriv = dfriv.loc[dfriv['lamy']<ney]\n",
        "dfriv = dfriv.loc[dfriv['lamx']>swx]\n",
        "dfriv = dfriv.loc[dfriv['lamy']>swy]\n",
        "\n",
        "# assign all rivers to the upper layer\n",
        "dfriv['lay'] = 0\n",
        "# convert lamx to column and lamy to row\n",
        "dfriv['row'] = np.trunc((ney-dfriv['lamy'])/dy)\n",
        "dfriv['col'] = np.trunc((dfriv['lamx']-swx)/dx)\n",
        "# define the river stage\n",
        "dfriv['stage'] = dfriv['rvr_stg']\n",
        "#define the conductance\n",
        "dfriv['cond'] = 5000. # ft^2/d\n",
        "# define the river bottom\n",
        "dfriv['bot'] = dfriv['stage']-3\n",
        "# drop unneeded files\n",
        "dfriv = dfriv.drop(['STR_ORD_MI','STR_ORD_MA','SUM_LENGTH','rvr_stg','lamx','lamy'],axis=1)\n",
        "\n",
        "dfriv = dfriv.groupby(['lay','row','col'],as_index=False).mean()"
      ],
      "execution_count": 0,
      "outputs": []
    },
    {
      "cell_type": "markdown",
      "metadata": {
        "id": "lMLXmXKF838v",
        "colab_type": "text"
      },
      "source": [
        "### 3Aiv. Define top and bottom elevations"
      ]
    },
    {
      "cell_type": "code",
      "metadata": {
        "id": "0sv1P7Bg8-RF",
        "colab_type": "code",
        "colab": {}
      },
      "source": [
        "# Now load the raster using FloPy's built in Raster toolbox\n",
        "illinoisdem = Raster.load(\"landsurface_el.tif\")\n",
        "bedrock = Raster.load(\"bedrock_el.tif\")\n",
        "\n",
        "# Crop the dEM to the model domain\n",
        "illinoisdem.crop([(swx,swy),(swx,ney),(nex,ney),(nex,swy)])\n",
        "bedrock.crop([(swx,swy),(swx,ney),(nex,ney),(nex,swy)])\n",
        "# Define centroid of the southwestern most cell\n",
        "startx = swx+dx/2 \n",
        "starty = swy+dx/2\n",
        "# Calculate the x and y coordinates for the centroid of each cell \n",
        "xc = np.arange(swx+dx/2,nex+dx/2,dx) \n",
        "yc = np.arange(swy+dy/2,ney+dy/2,dy)\n",
        "# Create a grid of the x coordinate of each centroid and the y coordinate\n",
        "xarr, yarr = np.meshgrid(xc,yc)\n",
        "# resample the topo raster to the grid of centroids of the model\n",
        "topgrid = illinoisdem.resample_to_grid(xarr,yarr,1,method='nearest') \n",
        "bedrock = bedrock.resample_to_grid(xarr,yarr,1,method='nearest')\n",
        "\n",
        "# We just built our top elevation upside down, let's flip it\n",
        "topgrid = np.flipud(topgrid) \n",
        "bedrockgrid = np.flipud(bedrock)   \n",
        "\n",
        "\n",
        "# Set the top of Layer 1 = River Elevation\n",
        "for index, row in dfriv.iterrows():  \n",
        "    topgrid[int(row['row']),int(row['col'])]=row['stage'] \n",
        "    #print(topgrid[int(row['row']),int(row['col'])],row['bot'])  \n",
        "\n",
        "# make sure that all layers are at least 9 ft thick\n",
        "diff = topgrid-bedrockgrid\n",
        "\n",
        "diff[diff<=9.0] = 9.0\n",
        "\n",
        "# each layer is the same thickness, we need 9 glacial layers\n",
        "laythick = diff/9\n",
        "\n",
        "#calculate bottom of each layer\n",
        "lay1bot = topgrid-laythick\n",
        "lay2bot = topgrid-2*laythick\n",
        "lay3bot = topgrid-3*laythick\n",
        "lay4bot = topgrid-4*laythick\n",
        "lay5bot = topgrid-5*laythick\n",
        "lay6bot = topgrid-6*laythick\n",
        "lay7bot = topgrid-7*laythick\n",
        "lay8bot = topgrid-8*laythick\n",
        "lay9bot = topgrid-9*laythick\n",
        "lay10bot = lay9bot-20.\n",
        "\n",
        "botgrids = [lay1bot,lay2bot,lay3bot,lay4bot,lay5bot,lay6bot,lay7bot,lay8bot,lay9bot,lay10bot]"
      ],
      "execution_count": 0,
      "outputs": []
    },
    {
      "cell_type": "markdown",
      "metadata": {
        "id": "qDDlICg0Jqiv",
        "colab_type": "text"
      },
      "source": [
        "### 3Av. Assign hydrualic conductivity"
      ]
    },
    {
      "cell_type": "code",
      "metadata": {
        "id": "f2PuBykRIb7j",
        "colab_type": "code",
        "colab": {}
      },
      "source": [
        "# assign hydrualic conductivity in ft/day\n",
        "kc = 200 # predominantly coarse\n",
        "kf = .01 # predominantly fine\n",
        "kb = 10 # bedrock\n",
        "\n",
        "# determine how to assign hydrualic conductivity\n",
        "threshold = 20 # anything above this will be assigned kc and below kf\n",
        "\n",
        "def kloader(rastername, kc, kf, threshold):\n",
        "  percent = Raster.load(rastername) # load raster\n",
        "  percent.crop([(swx,swy),(swx,ney),(nex,ney),(nex,swy)]) # crop array\n",
        "  percentgrid = percent.resample_to_grid(xarr,yarr,1,method='nearest') # resample to model grid\n",
        "  percentgrid = np.flipud(percentgrid) # flip the grid\n",
        "  percentgrid[percentgrid>=threshold] = kc # assign coarse k value\n",
        "  percentgrid[percentgrid<threshold] =kf # assign fine k value\n",
        "  return percentgrid\n",
        "\n",
        "kl1 = kloader('percentl1.tif',kc,kf,threshold)\n",
        "kl2 = kloader('percentl2.tif',kc,kf,threshold)\n",
        "kl3 = kloader('percentl3.tif',kc,kf,threshold)\n",
        "kl4 = kloader('percentl4.tif',kc,kf,threshold)\n",
        "kl5 = kloader('percentl5.tif',kc,kf,threshold)\n",
        "kl6 = kloader('percentl6.tif',kc,kf,threshold)\n",
        "kl7 = kloader('percentl7.tif',kc,kf,threshold)\n",
        "kl8 = kloader('percentl8.tif',kc,kf,threshold)\n",
        "kl9 = kloader('percentl9.tif',kc,kf,threshold)\n",
        "kl10 = kl9-kl9+kb\n",
        "\n",
        "khlayers = [kl1,kl2,kl3,kl4,kl5,kl6,kl7,kl8,kl9,kl10]\n",
        "kvlayers=np.divide(khlayers,10.)\n",
        "\n",
        "\n",
        "# Alternative uniform k values\n",
        "\n",
        "#hk = 250*np.ones((nlay,nrow,ncol), dtype=np.float32) #define horizontal hydraulic conductivity\n",
        "#vk = np.ones((nlay,nrow,ncol), dtype=np.float32) #define vertical hydraulic conductivity"
      ],
      "execution_count": 0,
      "outputs": []
    },
    {
      "cell_type": "markdown",
      "metadata": {
        "id": "QoCKtXB3zoLH",
        "colab_type": "text"
      },
      "source": [
        "## 3B. Create the MODFLOW model object "
      ]
    },
    {
      "cell_type": "code",
      "metadata": {
        "colab_type": "code",
        "id": "-v2Uc_JWSsu1",
        "colab": {}
      },
      "source": [
        "# Create a MODFLOW model object and run with MODFLOW 2005.\n",
        "modelname = \"my_model\" # name the model\n",
        "m = flopy.modflow.Modflow(modelname, version = 'mf2005', exe_name = 'mf2005') # create model object m"
      ],
      "execution_count": 0,
      "outputs": []
    },
    {
      "cell_type": "markdown",
      "metadata": {
        "id": "mNkGlXTw0Y8_",
        "colab_type": "text"
      },
      "source": [
        "## 3C. Append the discretization package to the model object"
      ]
    },
    {
      "cell_type": "code",
      "metadata": {
        "colab_type": "code",
        "id": "_MSCNyTkknUU",
        "colab": {}
      },
      "source": [
        "# length and time are feet (1) and days (4).\n",
        "# See https://water.usgs.gov/ogw/modflow/MODFLOW-2005-Guide/index.html?dis.htm \n",
        "dis = flopy.modflow.ModflowDis(model=m, nlay=nlay, nrow=nrow, ncol=ncol, \n",
        "                               delr=dx, delc=dy, top=topgrid, botm=botgrids, \n",
        "                               itmuni = 4, lenuni = 1, \n",
        "                               nper=nper, steady=steady)"
      ],
      "execution_count": 0,
      "outputs": []
    },
    {
      "cell_type": "markdown",
      "metadata": {
        "id": "ohZcMcra23lN",
        "colab_type": "text"
      },
      "source": [
        "## 3D. Basic Package"
      ]
    },
    {
      "cell_type": "code",
      "metadata": {
        "colab_type": "code",
        "id": "US3C3_-XS0gk",
        "colab": {
          "base_uri": "https://localhost:8080/",
          "height": 187
        },
        "outputId": "f18d5fa3-0e29-4d8c-d3a5-cfa9b2f3e430"
      },
      "source": [
        "ibound = topgrid.astype(np.int32)\n",
        "ibound[ibound>=0] = 1\n",
        "ibound[ibound<0] = 0\n",
        "print(ibound)\n",
        "\n",
        "# Create ibound as array of ints (1), indicating all cells are active\n",
        "#ibound = np.ones((nlay, nrow, ncol), dtype=np.int32)\n",
        "\n",
        "#Create flopy bas object\n",
        "bas = flopy.modflow.ModflowBas(m, ibound=ibound, strt=topgrid)\n"
      ],
      "execution_count": 225,
      "outputs": [
        {
          "output_type": "stream",
          "text": [
            "[[0 0 0 ... 1 1 1]\n",
            " [0 0 0 ... 1 1 1]\n",
            " [0 0 0 ... 1 1 1]\n",
            " ...\n",
            " [1 1 1 ... 1 1 1]\n",
            " [1 1 1 ... 1 1 1]\n",
            " [1 1 1 ... 1 1 1]]\n",
            "WARNING: unit 13 of package BAS6 already in use\n",
            "****Warning -- two packages of the same type:  <class 'flopy.modflow.mfbas.ModflowBas'> <class 'flopy.modflow.mfbas.ModflowBas'>\n",
            "replacing existing Package...\n"
          ],
          "name": "stdout"
        }
      ]
    },
    {
      "cell_type": "markdown",
      "metadata": {
        "id": "5PSnNO_x3RUj",
        "colab_type": "text"
      },
      "source": [
        "## 3E. LPF Package"
      ]
    },
    {
      "cell_type": "code",
      "metadata": {
        "colab_type": "code",
        "id": "sMP89XUkS4lL",
        "colab": {}
      },
      "source": [
        "#define layer type as convertible (1), must be an integer\n",
        "#for more information, see https://water.usgs.gov/ogw/modflow/MODFLOW-2005-Guide/index.html?dis.htm\n",
        "laytyp = np.ones((nlay,), dtype=np.int32)\n",
        "\n",
        "# create the LPF object\n",
        "lpf = flopy.modflow.ModflowLpf(model=m, hk=khlayers, vka=kvlayers, laytyp=laytyp, ipakcb=1)\n"
      ],
      "execution_count": 0,
      "outputs": []
    },
    {
      "cell_type": "markdown",
      "metadata": {
        "id": "blNu8BSC3VgJ",
        "colab_type": "text"
      },
      "source": [
        "## 3F. Boundary Conditions"
      ]
    },
    {
      "cell_type": "markdown",
      "metadata": {
        "id": "P4Y1btf03ivQ",
        "colab_type": "text"
      },
      "source": [
        "### 3Fi. Recharge Package"
      ]
    },
    {
      "cell_type": "code",
      "metadata": {
        "colab_type": "code",
        "id": "gDZ98E8NS8UG",
        "colab": {}
      },
      "source": [
        "# assign recharge to the model\n",
        "rch = flopy.modflow.mfrch.ModflowRch(model=m,rech = 0.001) # recharge rate is uniform and in ft/day\n"
      ],
      "execution_count": 0,
      "outputs": []
    },
    {
      "cell_type": "markdown",
      "metadata": {
        "id": "-otcrtqA3ZTZ",
        "colab_type": "text"
      },
      "source": [
        "### 3Fii. River Package"
      ]
    },
    {
      "cell_type": "code",
      "metadata": {
        "colab_type": "code",
        "id": "pwTDkxudTGmP",
        "colab": {}
      },
      "source": [
        "# put into a format that MODFLOW wants\n",
        "arriv = dfriv.values\n",
        "riverdata = {0: arriv}\n",
        "\n",
        "# create river package\n",
        "riv = flopy.modflow.mfriv.ModflowRiv(model=m, ipakcb=None,stress_period_data=riverdata)"
      ],
      "execution_count": 0,
      "outputs": []
    },
    {
      "cell_type": "markdown",
      "metadata": {
        "id": "GAVD2sGT4oRb",
        "colab_type": "text"
      },
      "source": [
        "## 3G. Define output control"
      ]
    },
    {
      "cell_type": "code",
      "metadata": {
        "colab_type": "code",
        "id": "NRhnNJU0TJhN",
        "colab": {}
      },
      "source": [
        "#create oc stress period data. \n",
        "spd = {(0, 0): ['print head', 'print budget', 'save head', 'save budget']}\n",
        "#create output control object\n",
        "oc = flopy.modflow.ModflowOc(model=m, stress_period_data=spd, compact=True)"
      ],
      "execution_count": 0,
      "outputs": []
    },
    {
      "cell_type": "markdown",
      "metadata": {
        "id": "VD9BUXun4si5",
        "colab_type": "text"
      },
      "source": [
        "## 3H. Solver"
      ]
    },
    {
      "cell_type": "code",
      "metadata": {
        "colab_type": "code",
        "id": "0tdHTKB-TMdU",
        "colab": {}
      },
      "source": [
        "# We will start by using the PCG solver with default settings\n",
        "#pcg = flopy.modflow.ModflowPcg(model=m)\n",
        "pcg = flopy.modflow.ModflowPcg(model=m,mxiter=200,iter1=50,hclose=1e-03,rclose=1e-03,relax=0.98,damp=0.3)"
      ],
      "execution_count": 0,
      "outputs": []
    },
    {
      "cell_type": "markdown",
      "metadata": {
        "id": "7yMH7xi9_CF9",
        "colab_type": "text"
      },
      "source": [
        "## 3I. Plot model inputs (boundary conditions, elevations)"
      ]
    },
    {
      "cell_type": "code",
      "metadata": {
        "colab_type": "code",
        "id": "s6ZbnrHqTVjd",
        "outputId": "e664ca42-1dba-4fd8-d50c-0e78ea2b9fdf",
        "colab": {
          "base_uri": "https://localhost:8080/",
          "height": 644
        }
      },
      "source": [
        "'''Plot grid and boundary conditions'''\n",
        "#----------------------------------------------------------------------------\n",
        "plt.figure(figsize=(10,10)) #create 10 x 10 figure\n",
        "modelmap = flopy.plot.PlotMapView(model=m, layer=0)\n",
        "#grid = modelmap.plot_grid()\n",
        "ib = modelmap.plot_ibound()\n",
        "rvr = modelmap.plot_bc(ftype='RIV')\n",
        "#add labels and legend\n",
        "plt.xlabel('Lx (ft)',fontsize = 14)\n",
        "plt.ylabel('Ly (ft)',fontsize = 14)\n",
        "plt.title('Ibound', fontsize = 15, fontweight = 'bold')\n",
        "plt.legend(handles=[mp.patches.Patch(color='blue',label='Const. Head',ec='black'),\n",
        "                   mp.patches.Patch(color='white',label='Active Cell',ec='black'),\n",
        "                   mp.patches.Patch(color='black',label='Inactive Cell',ec='black'),\n",
        "                   mp.patches.Patch(color='green',label='River',ec='green')],\n",
        "                   bbox_to_anchor=(1.5,1.0))\n",
        "#----------------------------------------------------------------------------"
      ],
      "execution_count": 217,
      "outputs": [
        {
          "output_type": "execute_result",
          "data": {
            "text/plain": [
              "<matplotlib.legend.Legend at 0x7ff9166b8908>"
            ]
          },
          "metadata": {
            "tags": []
          },
          "execution_count": 217
        },
        {
          "output_type": "display_data",
          "data": {
            "image/png": "[encoded data removed]",
            "text/plain": [
              "<Figure size 720x720 with 1 Axes>"
            ]
          },
          "metadata": {
            "tags": [],
            "needs_background": "light"
          }
        }
      ]
    },
    {
      "cell_type": "code",
      "metadata": {
        "colab_type": "code",
        "id": "r27l4dJK-Ksv",
        "outputId": "595651e3-820a-417c-ff2f-92fe4471c925",
        "colab": {
          "base_uri": "https://localhost:8080/",
          "height": 644
        }
      },
      "source": [
        "'''Plot elevation'''\n",
        "#----------------------------------------------------------------------------\n",
        "plt.figure(figsize=(10,10)) #create 10 x 10 figure\n",
        "modelmap = flopy.plot.map.PlotMapView(model=m, layer=0) #use plotmapview to attach plot to model\n",
        "#contour_levels = np.linspace(400,800,41)\n",
        "#topelevations = modelmap.contour_array(topgrid, levels = contour_levels) #create head contours\n",
        "#plt.clabel(topelevations, inline=True,fontsize=12,fmt='%1.0f')\n",
        "\n",
        "#create colormap of named colors\n",
        "colors = [\"saddlebrown\",\"lightgoldenrodyellow\"]\n",
        "cmap = mp.colors.LinearSegmentedColormap.from_list(\"\", colors)\n",
        "norm = matplotlib.colors.LogNorm(vmin=kf,vmax=kc)\n",
        "modelmap.plot_array(khlayers[3],norm = norm,cmap=cmap)\n",
        "rvr = modelmap.plot_bc(ftype='RIV')\n",
        "\n",
        "#display parameters\n",
        "plt.xlabel('Lx (ft)',fontsize = 14)\n",
        "plt.ylabel('Ly (ft)',fontsize = 14)\n",
        "plt.title('Top Elevation (ft AMSL)', fontsize = 15, fontweight = 'bold')"
      ],
      "execution_count": 218,
      "outputs": [
        {
          "output_type": "execute_result",
          "data": {
            "text/plain": [
              "Text(0.5, 1.0, 'Top Elevation (ft AMSL)')"
            ]
          },
          "metadata": {
            "tags": []
          },
          "execution_count": 218
        },
        {
          "output_type": "display_data",
          "data": {
            "image/png": "[encoded data removed]",
            "text/plain": [
              "<Figure size 720x720 with 1 Axes>"
            ]
          },
          "metadata": {
            "tags": [],
            "needs_background": "light"
          }
        }
      ]
    },
    {
      "cell_type": "code",
      "metadata": {
        "id": "yTWhw4UA-yK3",
        "colab_type": "code",
        "outputId": "55d15ba5-4f06-48bf-9f7a-635a07290eff",
        "colab": {
          "base_uri": "https://localhost:8080/",
          "height": 602
        }
      },
      "source": [
        "plt.figure(figsize=(10,10)) #create 10 x 10 figure\n",
        "modelxsect = flopy.plot.PlotCrossSection(model = m, line={\"row\":10}) #use plotmapview to attach plot to model\n",
        "#modelxsect = flopy.plot.PlotCrossSection(model = m, line={\"column\":200})\n",
        "#create colormap of named colors\n",
        "colors = [\"saddlebrown\",\"gray\",\"lightgoldenrodyellow\"]\n",
        "cmap = mp.colors.LinearSegmentedColormap.from_list(\"\", colors)\n",
        "norm = matplotlib.colors.LogNorm(vmin=kf,vmax=kc)\n",
        "#modelxsect.plot_grid()\n",
        "khlaynp = np.array(khlayers)\n",
        "lines = modelxsect.plot_array(khlaynp,norm=norm, cmap=cmap)\n",
        "rvr = modelxsect.plot_bc(ftype='RIV')\n",
        "modelxsect.plot_ibound()"
      ],
      "execution_count": 219,
      "outputs": [
        {
          "output_type": "display_data",
          "data": {
            "image/png": "[encoded data removed]",
            "text/plain": [
              "<Figure size 720x720 with 1 Axes>"
            ]
          },
          "metadata": {
            "tags": [],
            "needs_background": "light"
          }
        }
      ]
    },
    {
      "cell_type": "markdown",
      "metadata": {
        "id": "x4QPNEge41Mh",
        "colab_type": "text"
      },
      "source": [
        "# 4 Write and run the MODFLOW model"
      ]
    },
    {
      "cell_type": "code",
      "metadata": {
        "colab_type": "code",
        "id": "DH-U_oaiWTl8",
        "outputId": "7c71c5b9-3833-4d30-ad2f-b7f621c2f1f6",
        "colab": {
          "base_uri": "https://localhost:8080/",
          "height": 605
        }
      },
      "source": [
        "# Write the model input\n",
        "m.write_input()\n",
        "# Execute the model run\n",
        "success, mfoutput = m.run_model(pause=False, report=True)\n",
        "# Report back if the model did not successfully complete\n",
        "if not success:\n",
        "    raise Exception('MODFLOW did not terminate normally.')"
      ],
      "execution_count": 220,
      "outputs": [
        {
          "output_type": "stream",
          "text": [
            "FloPy is using the following  executable to run the model: /usr/local/bin/mf2005\n",
            "\n",
            "                                  MODFLOW-2005     \n",
            "    U.S. GEOLOGICAL SURVEY MODULAR FINITE-DIFFERENCE GROUND-WATER FLOW MODEL\n",
            "                             Version 1.12.00 2/3/2017                        \n",
            "\n",
            " Using NAME file: my_model.nam \n",
            " Run start date and time (yyyy/mm/dd hh:mm:ss): 2020/04/13  2:38:03\n",
            "\n",
            " Solving:  Stress period:     1    Time step:     1    Ground-Water Flow Eqn.\n",
            "\n",
            "Program received signal SIGFPE: Floating-point exception - erroneous arithmetic operation.\n",
            "\n",
            "Backtrace for this error:\n",
            "#0  0x7f203cb0d32a\n",
            "#1  0x7f203cb0c503\n",
            "#2  0x7f203cf0ff1f\n",
            "#3  0x557ac923aab1\n",
            "#4  0x557ac9242155\n",
            "#5  0x557ac92cae6b\n",
            "#6  0x557ac919a678\n",
            "#7  0x7f203cef2b96\n",
            "#8  0x557ac919a6a9\n",
            "#9  0xffffffffffffffff\n"
          ],
          "name": "stdout"
        },
        {
          "output_type": "error",
          "ename": "Exception",
          "evalue": "ignored",
          "traceback": [
            "\u001b[0;31m---------------------------------------------------------------------------\u001b[0m",
            "\u001b[0;31mException\u001b[0m                                 Traceback (most recent call last)",
            "\u001b[0;32m<ipython-input-220-6371cf11b64a>\u001b[0m in \u001b[0;36m<module>\u001b[0;34m()\u001b[0m\n\u001b[1;32m      4\u001b[0m \u001b[0;31m# Report back if the model did not successfully complete\u001b[0m\u001b[0;34m\u001b[0m\u001b[0;34m\u001b[0m\u001b[0;34m\u001b[0m\u001b[0m\n\u001b[1;32m      5\u001b[0m \u001b[0;32mif\u001b[0m \u001b[0;32mnot\u001b[0m \u001b[0msuccess\u001b[0m\u001b[0;34m:\u001b[0m\u001b[0;34m\u001b[0m\u001b[0;34m\u001b[0m\u001b[0m\n\u001b[0;32m----> 6\u001b[0;31m     \u001b[0;32mraise\u001b[0m \u001b[0mException\u001b[0m\u001b[0;34m(\u001b[0m\u001b[0;34m'MODFLOW did not terminate normally.'\u001b[0m\u001b[0;34m)\u001b[0m\u001b[0;34m\u001b[0m\u001b[0;34m\u001b[0m\u001b[0m\n\u001b[0m",
            "\u001b[0;31mException\u001b[0m: MODFLOW did not terminate normally."
          ]
        }
      ]
    },
    {
      "cell_type": "markdown",
      "metadata": {
        "id": "bN2ivrtx_5yz",
        "colab_type": "text"
      },
      "source": [
        "# 5 Plot Output Data"
      ]
    },
    {
      "cell_type": "code",
      "metadata": {
        "colab_type": "code",
        "id": "a7mhYeBVhDn6",
        "colab": {}
      },
      "source": [
        "'''Extract binary data from head and flow files'''\n",
        "#----------------------------------------------------------------------------\n",
        "#extract binary data from head file as flopy head object\n",
        "headobj = flopy.utils.binaryfile.HeadFile(modelname+'.hds')\n",
        "#extract head data from head object\n",
        "head = headobj.get_data(totim=1.0)"
      ],
      "execution_count": 0,
      "outputs": []
    },
    {
      "cell_type": "code",
      "metadata": {
        "colab_type": "code",
        "id": "MZxuJhCzg_F8",
        "colab": {}
      },
      "source": [
        "'''Plot results'''\n",
        "#----------------------------------------------------------------------------\n",
        "plt.figure(figsize=(10,10)) #create 10 x 10 figure\n",
        "modelmap = flopy.plot.map.PlotMapView(model=m, layer=0) #use plotmapview to attach plot to model\n",
        "#grid = modelmap.plot_grid() #plot model grid\n",
        "#contour_levels = np.linspace(head[0].min(),head[0].max(),11) #set contour levels for contouring head\n",
        "contour_levels = np.linspace(400,800,41) #set contour levels for contouring head\n",
        "head_contours = modelmap.contour_array(head[3], levels=contour_levels) #create head contours\n",
        "plt.clabel(head_contours, inline=True,fontsize=12,fmt='%1.0f')\n",
        "#flows = modelmap.plot_discharge(frf[0], fff[0], head=head) #create discharge arrows\n",
        "rvr = modelmap.plot_bc(ftype='RIV')\n",
        "\n",
        "#display parameters\n",
        "plt.xlabel('Lx (ft)',fontsize = 14)\n",
        "plt.ylabel('Ly (ft)',fontsize = 14)\n",
        "plt.title('Steady-State Model, Flow(ft^3/d) and Head(ft) Results', fontsize = 15, fontweight = 'bold')"
      ],
      "execution_count": 0,
      "outputs": []
    }
  ]
}